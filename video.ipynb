{
  "nbformat": 4,
  "nbformat_minor": 0,
  "metadata": {
    "colab": {
      "name": "video.ipynb",
      "version": "0.3.2",
      "provenance": [],
      "collapsed_sections": []
    },
    "kernelspec": {
      "name": "python3",
      "display_name": "Python 3"
    }
  },
  "cells": [
    {
      "cell_type": "code",
      "metadata": {
        "id": "q-weN-I4vSCO",
        "colab_type": "code",
        "colab": {}
      },
      "source": [
        "import cv2\n",
        "from google.colab.patches import cv2_imshow"
      ],
      "execution_count": 0,
      "outputs": []
    },
    {
      "cell_type": "code",
      "metadata": {
        "id": "DmETeHm4vTUf",
        "colab_type": "code",
        "colab": {}
      },
      "source": [
        "cap=cv2.VideoCapture(0)\n"
      ],
      "execution_count": 0,
      "outputs": []
    },
    {
      "cell_type": "code",
      "metadata": {
        "id": "Rrqys6QDwU4o",
        "colab_type": "code",
        "colab": {}
      },
      "source": [
        "#adding plugin\n",
        "plugin=cv2.VideoWriter_fourcc(*'XVID')\n",
        "#saving video\n",
        "output=cv2.VideoWriter('class.avi',plugin,20,(640,480))"
      ],
      "execution_count": 0,
      "outputs": []
    },
    {
      "cell_type": "code",
      "metadata": {
        "id": "8K-XpsTOvW6M",
        "colab_type": "code",
        "colab": {}
      },
      "source": [
        "while cap.isOpened() :\n",
        "   status,frame=cap.read()"
      ],
      "execution_count": 0,
      "outputs": []
    },
    {
      "cell_type": "code",
      "metadata": {
        "id": "0W0B5izgvZ6q",
        "colab_type": "code",
        "colab": {
          "base_uri": "https://localhost:8080/",
          "height": 128
        },
        "outputId": "0ad2d2ac-6af3-4bdb-ff96-50bb8b68e921"
      },
      "source": [
        "cv2_imshow(frame)\n",
        "#draw pattern\n",
        "\n",
        "output.write(frame)  #sending data to VideoWriter\n",
        "    #cv2_imshow(grayimg)\n",
        "    if cv2.waitKey(10) & 0xff == ord('q'):\n",
        "         break\n",
        "        "
      ],
      "execution_count": 12,
      "outputs": [
        {
          "output_type": "error",
          "ename": "IndentationError",
          "evalue": "ignored",
          "traceback": [
            "\u001b[0;36m  File \u001b[0;32m\"<ipython-input-12-0139f13befac>\"\u001b[0;36m, line \u001b[0;32m4\u001b[0m\n\u001b[0;31m    if cv2.waitKey(10) & 0xff == ord('q'):\u001b[0m\n\u001b[0m    ^\u001b[0m\n\u001b[0;31mIndentationError\u001b[0m\u001b[0;31m:\u001b[0m unexpected indent\n"
          ]
        }
      ]
    },
    {
      "cell_type": "code",
      "metadata": {
        "id": "98F7Lpnsveo-",
        "colab_type": "code",
        "colab": {}
      },
      "source": [
        "cv2.destroyAllWindows() #this will destroy all windows"
      ],
      "execution_count": 0,
      "outputs": []
    },
    {
      "cell_type": "code",
      "metadata": {
        "id": "hoFUmDygvibe",
        "colab_type": "code",
        "colab": {}
      },
      "source": [
        "#to close a camera\n",
        "cap.release()"
      ],
      "execution_count": 0,
      "outputs": []
    },
    {
      "cell_type": "code",
      "metadata": {
        "id": "pbePqmlsvmRp",
        "colab_type": "code",
        "colab": {
          "base_uri": "https://localhost:8080/",
          "height": 34
        },
        "outputId": "b2e84760-0a37-4f8d-95fe-79b5c36a1c1a"
      },
      "source": [
        "[i for i in dir(cv2) if 'Video' in i]"
      ],
      "execution_count": 7,
      "outputs": [
        {
          "output_type": "execute_result",
          "data": {
            "text/plain": [
              "['VideoCapture', 'VideoWriter', 'VideoWriter_fourcc']"
            ]
          },
          "metadata": {
            "tags": []
          },
          "execution_count": 7
        }
      ]
    },
    {
      "cell_type": "code",
      "metadata": {
        "id": "e8MSS2D9wPlt",
        "colab_type": "code",
        "colab": {}
      },
      "source": [
        ""
      ],
      "execution_count": 0,
      "outputs": []
    }
  ]
}