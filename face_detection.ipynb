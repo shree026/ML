{
  "nbformat": 4,
  "nbformat_minor": 0,
  "metadata": {
    "colab": {
      "name": "face_detection.ipynb",
      "version": "0.3.2",
      "provenance": [],
      "collapsed_sections": []
    },
    "kernelspec": {
      "name": "python3",
      "display_name": "Python 3"
    }
  },
  "cells": [
    {
      "cell_type": "code",
      "metadata": {
        "id": "nhjTRtVAIO_t",
        "colab_type": "code",
        "colab": {}
      },
      "source": [
        "import cv2"
      ],
      "execution_count": 0,
      "outputs": []
    },
    {
      "cell_type": "code",
      "metadata": {
        "id": "Gcdho3nkM7RC",
        "colab_type": "code",
        "colab": {
          "base_uri": "https://localhost:8080/",
          "height": 35
        },
        "outputId": "9121295a-34ff-46a8-fae2-22098fa3a789"
      },
      "source": [
        "[i for i in dir(cv2) if 'casca' in i]"
      ],
      "execution_count": 2,
      "outputs": [
        {
          "output_type": "execute_result",
          "data": {
            "text/plain": [
              "['haarcascades']"
            ]
          },
          "metadata": {
            "tags": []
          },
          "execution_count": 2
        }
      ]
    },
    {
      "cell_type": "code",
      "metadata": {
        "id": "XIqaE-c9NMqe",
        "colab_type": "code",
        "colab": {}
      },
      "source": [
        "#calling classifier\n",
        "casclf=cv2.CascadeClassifier('https://github.com/opencv/opencv/blob/master/data/haarcascades/haarcascade_frontalface_default.xml')"
      ],
      "execution_count": 0,
      "outputs": []
    },
    {
      "cell_type": "code",
      "metadata": {
        "id": "jMh2FXkBNCAR",
        "colab_type": "code",
        "colab": {}
      },
      "source": [
        "# loading face data\n",
        "cap=cv2.VideoCapture(2)\n"
      ],
      "execution_count": 0,
      "outputs": []
    },
    {
      "cell_type": "code",
      "metadata": {
        "id": "WD5VesMVNJ-U",
        "colab_type": "code",
        "colab": {}
      },
      "source": [
        "while cap.isOpened():\n",
        "    status,frame=cap.read()\n",
        "    #now we can apply classifier in live frame\n",
        "    face=casclf.detectMultiScale(frame,1.13,5) #classifier tuning parameter\n",
        "    print(face)\n",
        "    for x,y,h,w in face:\n",
        "      cv2.rectangle(frame,(x,y),(x+h,y+w),(0,0,255),2)\n",
        "      #only face\n",
        "      facedata=frame[x:x+h,y:y+w]\n",
        "    cv2.imshow(face)\n",
        "    if cv2.waitKey(10) & 0xff == ord('q'):\n",
        "       break"
      ],
      "execution_count": 0,
      "outputs": []
    },
    {
      "cell_type": "code",
      "metadata": {
        "id": "I-QeCnZEOpIK",
        "colab_type": "code",
        "colab": {}
      },
      "source": [
        "cv2.destroyAllWindows()\n",
        "cap.release()"
      ],
      "execution_count": 0,
      "outputs": []
    },
    {
      "cell_type": "code",
      "metadata": {
        "id": "eWveNEMMOvFB",
        "colab_type": "code",
        "colab": {}
      },
      "source": [
        ""
      ],
      "execution_count": 0,
      "outputs": []
    }
  ]
}