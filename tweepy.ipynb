{
 "cells": [
  {
   "cell_type": "code",
   "execution_count": 19,
   "metadata": {},
   "outputs": [],
   "source": [
    "import tweepy\n",
    "import matplotlib.pyplot as plt\n",
    "import time\n",
    "from textblob import TextBlob"
   ]
  },
  {
   "cell_type": "code",
   "execution_count": 2,
   "metadata": {},
   "outputs": [],
   "source": [
    "#all 4 authentication key to access twitter API\n",
    "# to connect as OATH handler or jump server/reverse proxy server\n",
    "consumer_key='kZADq17e01p6ILN0u3vdgU1DH'\n",
    "consumer_sec='7bKnY3aGD1LZIDWbS6tVzru8zFZNV492oN9I51g7b6HctxC8Kb'\n",
    "\n",
    "\n",
    "#from proxy server we need to connect to web server to twitter\n",
    "access_token='266449908-riSJfN9LFhHcRlm2NNkaA2EA30JGHEZf5rBnJPZR'\n",
    "access_sec='BZVZx7nxSAYbsYkpCnPQLpVVlQyFMFIaZ2T49vSbPFasE'"
   ]
  },
  {
   "cell_type": "code",
   "execution_count": 5,
   "metadata": {},
   "outputs": [],
   "source": [
    "#tweepy explore --\n",
    "#connecting to jump server of twitter\n",
    "auth=tweepy.OAuthHandler(consumer_key,consumer_sec)"
   ]
  },
  {
   "cell_type": "code",
   "execution_count": 6,
   "metadata": {},
   "outputs": [],
   "source": [
    "#now we cam connect from jump server to web server of twitter\n",
    "auth.set_access_token(access_token,access_sec)"
   ]
  },
  {
   "cell_type": "code",
   "execution_count": 9,
   "metadata": {},
   "outputs": [],
   "source": [
    "#now we can connect to api storage server of twitter\n",
    "api_connect=tweepy.API(auth)"
   ]
  },
  {
   "cell_type": "code",
   "execution_count": 36,
   "metadata": {},
   "outputs": [],
   "source": [
    "# now you can search any topic on twitter\n",
    "tweet_data=api_connect.search('modi',count=30)"
   ]
  },
  {
   "cell_type": "code",
   "execution_count": 46,
   "metadata": {},
   "outputs": [
    {
     "name": "stdout",
     "output_type": "stream",
     "text": [
      "Sentiment(polarity=-0.012500000000000011, subjectivity=0.65)\n",
      "negative\n",
      "Sentiment(polarity=0.0, subjectivity=0.125)\n",
      "neutral\n",
      "Sentiment(polarity=0.0, subjectivity=0.0)\n",
      "neutral\n",
      "Sentiment(polarity=0.0, subjectivity=0.0)\n",
      "neutral\n",
      "Sentiment(polarity=0.0, subjectivity=0.0)\n",
      "neutral\n",
      "Sentiment(polarity=0.0, subjectivity=0.0)\n",
      "neutral\n",
      "Sentiment(polarity=0.5, subjectivity=0.5)\n",
      "positive\n",
      "Sentiment(polarity=-0.04166666666666667, subjectivity=0.7916666666666666)\n",
      "negative\n",
      "Sentiment(polarity=0.0, subjectivity=0.0)\n",
      "neutral\n",
      "Sentiment(polarity=0.175, subjectivity=0.325)\n",
      "positive\n",
      "Sentiment(polarity=0.0, subjectivity=0.175)\n",
      "neutral\n",
      "Sentiment(polarity=0.21428571428571427, subjectivity=0.42857142857142855)\n",
      "positive\n",
      "Sentiment(polarity=0.3, subjectivity=0.2)\n",
      "positive\n",
      "Sentiment(polarity=0.0, subjectivity=0.0)\n",
      "neutral\n",
      "Sentiment(polarity=0.0, subjectivity=0.0)\n",
      "neutral\n",
      "Sentiment(polarity=0.13636363636363635, subjectivity=0.5)\n",
      "positive\n",
      "Sentiment(polarity=0.0, subjectivity=0.0)\n",
      "neutral\n",
      "Sentiment(polarity=0.0, subjectivity=0.0)\n",
      "neutral\n",
      "Sentiment(polarity=0.21428571428571427, subjectivity=0.6428571428571429)\n",
      "positive\n",
      "Sentiment(polarity=0.0, subjectivity=0.0)\n",
      "neutral\n",
      "Sentiment(polarity=0.325, subjectivity=0.625)\n",
      "positive\n",
      "Sentiment(polarity=0.0, subjectivity=0.0)\n",
      "neutral\n",
      "Sentiment(polarity=0.5, subjectivity=0.5)\n",
      "positive\n",
      "Sentiment(polarity=0.02500000000000001, subjectivity=0.3)\n",
      "positive\n",
      "Sentiment(polarity=0.0, subjectivity=0.0)\n",
      "neutral\n",
      "Sentiment(polarity=0.02500000000000001, subjectivity=0.3)\n",
      "positive\n",
      "Sentiment(polarity=0.0, subjectivity=0.0)\n",
      "neutral\n"
     ]
    },
    {
     "data": {
      "image/png": "[encoded data removed]",
      "text/plain": [
       "<Figure size 432x288 with 1 Axes>"
      ]
     },
     "metadata": {},
     "output_type": "display_data"
    }
   ],
   "source": [
    "pos=0\n",
    "neu=0\n",
    "neg=0\n",
    "#printing line by line \n",
    "for tweet in tweet_data:\n",
    "    #print(tweet.text)\n",
    "    #time.sleep(2)\n",
    "    analysis=TextBlob(tweet.text)  #here it will apply nlp\n",
    "    print(analysis.sentiment)\n",
    "    #now checking polarity only\n",
    "    if analysis.sentiment.polarity > 0 :\n",
    "          print(\"positive\")\n",
    "          pos=pos+1\n",
    "    elif analysis.sentiment.polarity ==0 :\n",
    "         print(\"neutral\")\n",
    "         neu=neu+1\n",
    "    else :\n",
    "        print(\"negative\")\n",
    "        neg=neg+1\n",
    "            \n",
    "            \n",
    "#ploting graphs\n",
    "plt.xlabel(\"tags\")\n",
    "plt.ylabel(\"polarity\")\n",
    "plt.bar(['pos','neg','neu'],[pos,neg,neu])\n",
    "plt.pie([pos,neg,neu],labels=[\"pos\",\"neg\",\"neu\"],autopct=\"%1.ff%%\")\n",
    "plt.show()\n",
    "            "
   ]
  },
  {
   "cell_type": "code",
   "execution_count": null,
   "metadata": {},
   "outputs": [],
   "source": []
  },
  {
   "cell_type": "code",
   "execution_count": null,
   "metadata": {},
   "outputs": [],
   "source": []
  }
 ],
 "metadata": {
  "kernelspec": {
   "display_name": "Python 3",
   "language": "python",
   "name": "python3"
  },
  "language_info": {
   "codemirror_mode": {
    "name": "ipython",
    "version": 3
   },
   "file_extension": ".py",
   "mimetype": "text/x-python",
   "name": "python",
   "nbconvert_exporter": "python",
   "pygments_lexer": "ipython3",
   "version": "3.6.8"
  }
 },
 "nbformat": 4,
 "nbformat_minor": 2
}
